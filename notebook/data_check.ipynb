{
 "cells": [
  {
   "cell_type": "code",
   "execution_count": 1,
   "metadata": {},
   "outputs": [],
   "source": [
    "import pandas as pd\n",
    "\n",
    "# 列方向を省略しない\n",
    "pd.set_option('display.max_columns', None)\n",
    "pd.set_option('display.max_rows', 100)"
   ]
  },
  {
   "cell_type": "code",
   "execution_count": 2,
   "metadata": {},
   "outputs": [],
   "source": [
    "def convert_yyyymm_to_datetime(df_train, df_test, col_name):\n",
    "    df_train_yyyymm = pd.to_datetime(df_train[col_name], format='%Y%m')\n",
    "    df_test_yyyymm = pd.to_datetime(df_test[col_name], format='%Y%m')\n",
    "    return df_train_yyyymm, df_test_yyyymm\n",
    "\n",
    "def calc_month_from_now(df_train, df_test, df_train_yyyymm, df_test_yyyymm, col_name):\n",
    "    df_train[col_name + '_month'] = -(df_train_yyyymm - pd.Timestamp('2025-01-01')).dt.days // 30\n",
    "    df_test[col_name + '_month'] = -(df_test_yyyymm - pd.Timestamp('2025-01-01')).dt.days // 30\n",
    "    return df_train, df_test\n",
    "\n",
    "def drop_column(df_train, df_test, col_name):\n",
    "    df_train = df_train.drop(columns=[col_name],axis='columns')\n",
    "    df_test = df_test.drop(columns=[col_name],axis='columns')\n",
    "    return df_train, df_test\n",
    "\n",
    "def generate_month_from_now_features(df_train, df_test,col_name):\n",
    "    df_train_yyyymm, df_test_yyyymm = convert_yyyymm_to_datetime(df_train, df_test, col_name)\n",
    "    df_train, df_test = calc_month_from_now(df_train, df_test, df_train_yyyymm, df_test_yyyymm, col_name)\n",
    "    df_train, df_test = drop_column(df_train, df_test, col_name)\n",
    "    return df_train, df_test"
   ]
  },
  {
   "cell_type": "code",
   "execution_count": 41,
   "metadata": {},
   "outputs": [],
   "source": [
    "# categoryデータ列をone-hot-encoding\n",
    "def one_hot_encoding(df_train, df_test, col_name,feature_columns):\n",
    "    df = pd.concat([df_train, df_test])\n",
    "    df = pd.get_dummies(df, columns=[col_name])\n",
    "    df_train = df.iloc[:len(df_train)]\n",
    "    df_test = df.iloc[len(df_train):].reset_index(drop=True)\n",
    "    feature_columns = list(df_train.columns)\n",
    "    return df_train, df_test, feature_columns\n",
    "\n",
    "def one_hot_encoding_tag_id(df_train, df_test, col_name,feature_columns):\n",
    "    df = pd.concat([df_train, df_test])\n",
    "    tag_id_split = df[col_name].str.get_dummies(sep='/')\n",
    "    tag_id_split = tag_id_split.add_prefix(col_name + '_')\n",
    "    df = pd.concat([df, tag_id_split], axis=1)\n",
    "    df = df.drop(columns=[col_name],axis='columns')\n",
    "    df_train = df.iloc[:len(df_train)]\n",
    "    df_test = df.iloc[len(df_train):].reset_index(drop=True)\n",
    "    feature_columns = list(df.columns)\n",
    "    return df_train, df_test, feature_columns"
   ]
  },
  {
   "cell_type": "code",
   "execution_count": 71,
   "metadata": {},
   "outputs": [],
   "source": [
    "target_col = 'money_room'\n",
    "index_col = 'index'\n",
    "feature_columns = [\n",
    "    #'building_id',\n",
    "    'building_status',\n",
    "    'building_type',\n",
    "    'unit_count',\n",
    "    'building_structure',\n",
    "    'total_floor_area',\n",
    "    'building_area',\n",
    "    'floor_count',\n",
    "    'basement_floor_count',\n",
    "    'year_built',\n",
    "    'building_land_area',\n",
    "    'land_area_all',\n",
    "    'unit_area_min',\n",
    "    'unit_area_max',\n",
    "    'building_land_chimoku',\n",
    "    'land_youto',\n",
    "    'land_toshi',\n",
    "    'land_chisei',\n",
    "    'land_area_kind',\n",
    "    'land_setback_flg',\n",
    "    'land_setback',\n",
    "    'land_kenpei',\n",
    "    'land_youseki',\n",
    "    'land_road_cond',\n",
    "    #'land_seigen',\n",
    "    'building_area_kind',\n",
    "    'management_form',\n",
    "    'management_association_flg',\n",
    "    #'reform_exterior',\n",
    "    #'reform_exterior_other',\n",
    "    'reform_exterior_date',\n",
    "    #'reform_common_area',\n",
    "    'reform_common_area_date',\n",
    "    'building_tag_id',\n",
    "    'room_floor',\n",
    "    'balcony_area',\n",
    "    'dwelling_unit_window_angle',\n",
    "    'room_count',\n",
    "    'unit_area',\n",
    "    'floor_plan_code',\n",
    "    #'reform_date',\n",
    "    #'reform_place',\n",
    "    #'reform_place_other',\n",
    "    #'reform_wet_area',\n",
    "    #'reform_wet_area_other',\n",
    "    'reform_wet_area_date',\n",
    "    #'reform_interior',\n",
    "    #'reform_interior_other',\n",
    "    'reform_interior_date',\n",
    "    #'reform_etc',\n",
    "    #'renovation_date',\n",
    "    #'renovation_etc',\n",
    "    'flg_open',\n",
    "    'flg_own',\n",
    "    'bukken_type',\n",
    "    'flg_investment',\n",
    "    'empty_number',\n",
    "    #'empty_contents',\n",
    "    #'addr1_1',\n",
    "    #'addr1_2',\n",
    "    #'eki_name1',\n",
    "    #'bus_stop1',\n",
    "    #'bus_time1',\n",
    "    #'walk_distance1',\n",
    "    #'rosen_name2',\n",
    "    #'eki_name2',\n",
    "    #'bus_stop2',\n",
    "    #'bus_time2',\n",
    "    #'walk_distance2',\n",
    "    #'traffic_other',\n",
    "    #'traffic_car',\n",
    "    'snapshot_land_area',\n",
    "    'snapshot_land_shidou',\n",
    "    'land_shidou_a',\n",
    "    'land_shidou_b',\n",
    "    'land_mochibun_a',\n",
    "    'land_mochibun_b',\n",
    "    'house_area',\n",
    "    'flg_new',\n",
    "    'house_kanrinin',\n",
    "    'room_kaisuu',\n",
    "    'snapshot_window_angle',\n",
    "    'madori_number_all',\n",
    "    'madori_kind_all',\n",
    "    'money_kyoueki',\n",
    "    'money_kyoueki_tax',\n",
    "    'money_rimawari_now',\n",
    "    'money_shuuzen',\n",
    "    'money_shuuzenkikin',\n",
    "    #'money_sonota_str1',\n",
    "    'money_sonota1',\n",
    "    #'money_sonota_str2',\n",
    "    'money_sonota2',\n",
    "    #'money_sonota_str3',\n",
    "    'money_sonota3',\n",
    "    'parking_money',\n",
    "    'parking_money_tax',\n",
    "    'parking_kubun',\n",
    "    'parking_distance',\n",
    "    'parking_number',\n",
    "    #'parking_memo',\n",
    "    'genkyo_code',\n",
    "    'usable_status',\n",
    "    'usable_date',\n",
    "    #'school_ele_name',\n",
    "    'school_ele_distance',\n",
    "    #'school_ele_code',\n",
    "    #'school_jun_name',\n",
    "    'school_jun_distance',\n",
    "    #'school_jun_code',\n",
    "    'convenience_distance',\n",
    "    'super_distance',\n",
    "    'hospital_distance',\n",
    "    'park_distance',\n",
    "    'drugstore_distance',\n",
    "    'bank_distance',\n",
    "    'shopping_street_distance',\n",
    "    #'est_other_name',\n",
    "    'est_other_distance',\n",
    "    'statuses',\n",
    "    'parking_keiyaku',\n",
    "    #'money_hoshou_company',\n",
    "    'free_rent_duration',\n",
    "    'free_rent_gen_timing']\n",
    "\n",
    "category_columns = ['building_status',\n",
    "                    'building_type',\n",
    "                    'building_structure',\n",
    "                    'building_land_chimoku',\n",
    "                    'land_youto',\n",
    "                    'land_toshi',\n",
    "                    'land_chisei',\n",
    "                    'land_area_kind',\n",
    "                    'land_setback_flg',\n",
    "                    'land_road_cond',\n",
    "                    'building_area_kind',\n",
    "                    'management_form',\n",
    "                    'management_association_flg',\n",
    "                    'flg_open',\n",
    "                    'flg_own',\n",
    "                    'bukken_type',\n",
    "                    'flg_investment',\n",
    "                    'flg_new',\n",
    "                    'house_kanrinin',\n",
    "                    'snapshot_window_angle',\n",
    "                    'madori_kind_all',\n",
    "                    'money_kyoueki_tax',\n",
    "                    'parking_money_tax',\n",
    "                    'parking_kubun',\n",
    "                    'genkyo_code',\n",
    "                    'usable_status',\n",
    "                    'parking_keiyaku']\n",
    "\n",
    "tag_id_columns = ['building_tag_id','statuses']\n",
    "\n",
    "yyyymm_columns = ['year_built',\n",
    "                  'reform_exterior_date',\n",
    "                  'reform_common_area_date',\n",
    "                  'reform_wet_area_date',\n",
    "                  'reform_interior_date',\n",
    "                  'free_rent_gen_timing']"
   ]
  },
  {
   "cell_type": "code",
   "execution_count": 72,
   "metadata": {},
   "outputs": [],
   "source": [
    "# fearure_columnsのみ読み込む\n",
    "train = pd.read_csv('../data/train.csv', usecols=feature_columns + [target_col])\n",
    "test = pd.read_csv('../data/test.csv', usecols=feature_columns + [index_col])"
   ]
  },
  {
   "cell_type": "code",
   "execution_count": 73,
   "metadata": {},
   "outputs": [
    {
     "name": "stdout",
     "output_type": "stream",
     "text": [
      "(584507, 86)\n",
      "(384540, 86)\n"
     ]
    }
   ],
   "source": [
    "for col_name in yyyymm_columns:\n",
    "    train, test = generate_month_from_now_features(train, test, col_name)\n",
    "print(train.shape)\n",
    "print(test.shape)"
   ]
  },
  {
   "cell_type": "code",
   "execution_count": 74,
   "metadata": {},
   "outputs": [
    {
     "name": "stdout",
     "output_type": "stream",
     "text": [
      "(584507, 199)\n",
      "(384540, 199)\n"
     ]
    }
   ],
   "source": [
    "for col_name in category_columns:\n",
    "    train, test, feature_columns = one_hot_encoding(train, test, col_name,feature_columns)\n",
    "print(train.shape)\n",
    "print(test.shape)"
   ]
  },
  {
   "cell_type": "code",
   "execution_count": 75,
   "metadata": {},
   "outputs": [
    {
     "name": "stdout",
     "output_type": "stream",
     "text": [
      "(584507, 430)\n",
      "(384540, 430)\n"
     ]
    }
   ],
   "source": [
    "for col_name in tag_id_columns:\n",
    "    train, test, feature_columns = one_hot_encoding_tag_id(train, test, col_name,feature_columns)\n",
    "print(train.shape)\n",
    "print(test.shape)"
   ]
  },
  {
   "cell_type": "code",
   "execution_count": 76,
   "metadata": {},
   "outputs": [
    {
     "data": {
      "text/plain": [
       "Index(['money_room', 'unit_count', 'total_floor_area', 'building_area',\n",
       "       'floor_count', 'basement_floor_count', 'building_land_area',\n",
       "       'land_area_all', 'unit_area_min', 'unit_area_max',\n",
       "       ...\n",
       "       'statuses_335301', 'statuses_335401', 'statuses_335501',\n",
       "       'statuses_336401', 'statuses_336501', 'statuses_340101',\n",
       "       'statuses_340102', 'statuses_340201', 'statuses_340401',\n",
       "       'statuses_350201'],\n",
       "      dtype='object', length=430)"
      ]
     },
     "execution_count": 76,
     "metadata": {},
     "output_type": "execute_result"
    }
   ],
   "source": [
    "train.columns"
   ]
  },
  {
   "cell_type": "code",
   "execution_count": 77,
   "metadata": {},
   "outputs": [
    {
     "name": "stdout",
     "output_type": "stream",
     "text": [
      "Validation RMSE: 18327.43480934778\n"
     ]
    },
    {
     "name": "stderr",
     "output_type": "stream",
     "text": [
      "/home/satoru/.cache/pypoetry/virtualenvs/signate-gis-data-challenge-1-RQApCED0-py3.10/lib/python3.10/site-packages/sklearn/metrics/_regression.py:492: FutureWarning: 'squared' is deprecated in version 1.4 and will be removed in 1.6. To calculate the root mean squared error, use the function'root_mean_squared_error'.\n",
      "  warnings.warn(\n"
     ]
    }
   ],
   "source": [
    "# lgihtGBMでroom_moneyを予測する\n",
    "import lightgbm as lgb\n",
    "from sklearn.model_selection import train_test_split\n",
    "from sklearn.metrics import mean_squared_error\n",
    "\n",
    "# 予測対象の設定\n",
    "# yyyymm_columnsを削除して、_monthを追加\n",
    "feature_columns = feature_columns + [col + '_month' for col in yyyymm_columns]\n",
    "feature_columns = list(set(feature_columns) - set(yyyymm_columns))\n",
    "train = train.drop(columns=index_col,axis='columns')\n",
    "test = test.drop(columns=target_col,axis='columns')\n",
    "feature_columns = list(set(feature_columns) - set([target_col]))\n",
    "feature_columns = list(set(feature_columns) - set([index_col]))\n",
    "\n",
    "# 特徴量とターゲットの設定\n",
    "X = train[feature_columns]\n",
    "y = train[target_col]\n",
    "\n",
    "# データの分割\n",
    "X_train, X_val, y_train, y_val = train_test_split(X, y, test_size=0.2, random_state=42)\n",
    "\n",
    "# LightGBMのデータセット作成\n",
    "train_data = lgb.Dataset(X_train, label=y_train)\n",
    "val_data = lgb.Dataset(X_val, label=y_val)\n",
    "\n",
    "# ハイパーパラメータの設定\n",
    "params = {\n",
    "    'objective': 'regression',\n",
    "    'metric': 'rmse',\n",
    "    'boosting_type': 'gbdt',\n",
    "    'learning_rate': 0.01,\n",
    "    'num_leaves': 31,\n",
    "    'verbose': -1\n",
    "}\n",
    "\n",
    "# モデルの学習\n",
    "model = lgb.train(params, train_data, valid_sets=[val_data], num_boost_round=1000)\n",
    "\n",
    "# バリデーションデータでの予測\n",
    "y_pred = model.predict(X_val)\n",
    "\n",
    "# RMSEの計算\n",
    "rmse = mean_squared_error(y_val, y_pred, squared=False)\n",
    "print(f'Validation RMSE: {rmse}')"
   ]
  },
  {
   "cell_type": "code",
   "execution_count": 78,
   "metadata": {},
   "outputs": [],
   "source": [
    "test[target_col] = model.predict(test[feature_columns])"
   ]
  },
  {
   "cell_type": "code",
   "execution_count": 79,
   "metadata": {},
   "outputs": [
    {
     "name": "stderr",
     "output_type": "stream",
     "text": [
      "/tmp/ipykernel_116362/1138642562.py:3: SettingWithCopyWarning: \n",
      "A value is trying to be set on a copy of a slice from a DataFrame.\n",
      "Try using .loc[row_indexer,col_indexer] = value instead\n",
      "\n",
      "See the caveats in the documentation: https://pandas.pydata.org/pandas-docs/stable/user_guide/indexing.html#returning-a-view-versus-a-copy\n",
      "  submission['index'] = submission['index'].astype(str).str.zfill(6)\n"
     ]
    }
   ],
   "source": [
    "submission = test[['index', 'money_room']]\n",
    "# indexを6桁でpadding\n",
    "submission['index'] = submission['index'].astype(str).str.zfill(6)\n",
    "submission.to_csv('../data/submission/submission.csv', index=False,header=False)"
   ]
  },
  {
   "cell_type": "code",
   "execution_count": 80,
   "metadata": {},
   "outputs": [
    {
     "name": "stdout",
     "output_type": "stream",
     "text": [
      "\u001b[32mYou have successfully submitted your predictions.We will send you the submission result to your email address.\u001b[0m\n"
     ]
    }
   ],
   "source": [
    "!signate submit --competition-id=1512 '../data/submission/submission.csv'"
   ]
  },
  {
   "cell_type": "code",
   "execution_count": null,
   "metadata": {},
   "outputs": [],
   "source": []
  }
 ],
 "metadata": {
  "kernelspec": {
   "display_name": "signate-gis-data-challenge-1-RQApCED0-py3.10",
   "language": "python",
   "name": "python3"
  },
  "language_info": {
   "codemirror_mode": {
    "name": "ipython",
    "version": 3
   },
   "file_extension": ".py",
   "mimetype": "text/x-python",
   "name": "python",
   "nbconvert_exporter": "python",
   "pygments_lexer": "ipython3",
   "version": "3.10.4"
  }
 },
 "nbformat": 4,
 "nbformat_minor": 2
}
